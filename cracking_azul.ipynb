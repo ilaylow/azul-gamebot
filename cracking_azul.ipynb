{
 "cells": [
  {
   "cell_type": "code",
   "execution_count": 15,
   "id": "d66ad621-8e70-4f40-bf6c-f376696bdd42",
   "metadata": {},
   "outputs": [],
   "source": [
    "import numpy as np\n",
    "import random\n",
    "from copy import deepcopy"
   ]
  },
  {
   "cell_type": "code",
   "execution_count": 16,
   "id": "e8360956-8711-463a-ace4-69184e309844",
   "metadata": {},
   "outputs": [],
   "source": [
    "COLOUR_DICT = {\n",
    "    0: \"One\", 1: \"Blue\", 2: \"Dark Blue\", 3: \"Light Blue\", 4: \"Red\", 5: \"Orange\"\n",
    "}"
   ]
  },
  {
   "cell_type": "code",
   "execution_count": 17,
   "id": "7872c6e7-8af0-40ee-b7f1-8fb91a869cd2",
   "metadata": {},
   "outputs": [],
   "source": [
    "# Maybe we can define the grid as an array of tuples, 1st argument indicating whether it is filled, and the 2nd, indicating the type of colour\n",
    "INITIAL_GRID = [\n",
    "    [[0, 1], [0, 5], [0, 4], [0, 2], [0, 3]],\n",
    "    [[0, 3], [0, 1], [0, 5], [0, 4], [0, 2]],\n",
    "    [[0, 2], [0, 3], [0, 1], [0, 5], [0, 4]],\n",
    "    [[0, 4], [0, 2], [0, 3], [0, 1], [0, 5]],\n",
    "    [[0, 5], [0, 4], [0, 2], [0, 3], [0, 1]]\n",
    "]\n",
    "\n",
    "# We can also define the tiles that are filled to place gems in the grid, zeros are used here to indicate that nothing is currently present\n",
    "INITIAL_TILES = [\n",
    "    [0], [0,0], [0,0,0], [0,0,0,0], [0,0,0,0,0]\n",
    "]"
   ]
  },
  {
   "cell_type": "code",
   "execution_count": 18,
   "id": "9c21e568-9026-476c-b56c-eb8caead868d",
   "metadata": {},
   "outputs": [
    {
     "data": {
      "text/plain": [
       "{0: 'One', 1: 'Blue', 2: 'Dark Blue', 3: 'Light Blue', 4: 'Red', 5: 'Orange'}"
      ]
     },
     "execution_count": 18,
     "metadata": {},
     "output_type": "execute_result"
    }
   ],
   "source": [
    "# Next, let's make a generator to randomly produce assortments of the tops within the game\n",
    "# That is, we want to produce 7 4-tuples with varying distributions of colour and this MUST be randomized (There are 100 tiles in total and 20 of each colour)\n",
    "COLOUR_DICT"
   ]
  },
  {
   "cell_type": "code",
   "execution_count": 19,
   "id": "633a66cd-8bfe-4d16-b86d-16dbd4ebfdff",
   "metadata": {},
   "outputs": [],
   "source": [
    "def generate_distributions():\n",
    "    \n",
    "    while True: \n",
    "        curr_list = []\n",
    "        for i in range(7):\n",
    "            assort_tuple = (random.randint(1,5), random.randint(1,5), random.randint(1,5), random.randint(1,5))\n",
    "            curr_list.append(assort_tuple)\n",
    "        \n",
    "        if verify_distribution(curr_list):\n",
    "            return curr_list\n",
    "\n",
    "def verify_distribution(nums):\n",
    "    curr_dict = {}\n",
    "    for tups in nums:\n",
    "        for x in tups:\n",
    "            if x in curr_dict:\n",
    "                curr_dict[x] += 1\n",
    "            else:\n",
    "                curr_dict[x] = 1\n",
    "\n",
    "    for x in curr_dict:\n",
    "        if curr_dict[x] > 20:\n",
    "            return False\n",
    "        \n",
    "    return True\n",
    "\n",
    "def convert_nums_to_colours(nums):\n",
    "    new_list = []\n",
    "    for x,y,z,w in nums:\n",
    "        new_list.append((COLOUR_DICT[x], COLOUR_DICT[y], COLOUR_DICT[x], COLOUR_DICT[w]))\n",
    "    \n",
    "    return new_list"
   ]
  },
  {
   "cell_type": "code",
   "execution_count": 20,
   "id": "9f6426ed-c992-46d2-942e-ffcc3090a0e0",
   "metadata": {},
   "outputs": [
    {
     "data": {
      "text/plain": [
       "[('Red', 'Dark Blue', 'Red', 'Orange'),\n",
       " ('Red', 'Dark Blue', 'Red', 'Red'),\n",
       " ('Red', 'Light Blue', 'Red', 'Light Blue'),\n",
       " ('Dark Blue', 'Red', 'Dark Blue', 'Red'),\n",
       " ('Blue', 'Light Blue', 'Blue', 'Red'),\n",
       " ('Red', 'Light Blue', 'Red', 'Orange'),\n",
       " ('Dark Blue', 'Red', 'Dark Blue', 'Dark Blue')]"
      ]
     },
     "execution_count": 20,
     "metadata": {},
     "output_type": "execute_result"
    }
   ],
   "source": [
    "random_dist = generate_distributions()\n",
    "random_dist_colors = convert_nums_to_colours(random_dist)\n",
    "\n",
    "random_dist_colors"
   ]
  },
  {
   "cell_type": "code",
   "execution_count": 21,
   "id": "293e778f-bc0a-4289-bdb6-7ab4c317c66e",
   "metadata": {},
   "outputs": [],
   "source": [
    "# Remember here that we have to pick A COLOUR amongst the tiles which are present on the top, and the rest of the colors are shoved within the middle\n",
    "# Need to keep a track of those colours in the middle"
   ]
  },
  {
   "cell_type": "code",
   "execution_count": 22,
   "id": "4a63d6d3-943f-4e9e-ace6-61b35ac83b93",
   "metadata": {},
   "outputs": [],
   "source": [
    "# 0 represents the ONE tile\n",
    "MIDDLE_TILES = [0]"
   ]
  },
  {
   "cell_type": "code",
   "execution_count": 23,
   "id": "c33b8d4a-d009-418b-824f-28a97b149c89",
   "metadata": {},
   "outputs": [],
   "source": [
    "# For predictions, we want an algorithm that will tell the user which of the 7 tiles are best, and of those colours within the tiles, which should be selected.\n",
    "# Should we simulate choosing each of the tiles and test for the possible points which can be obtained and see which selection maxes the points? \n",
    "# This would require simulations of the game\n",
    "# Let's make a player class for this to represent the information that each player will have"
   ]
  },
  {
   "cell_type": "code",
   "execution_count": 24,
   "id": "b33be7ad-268b-4f5f-a6b5-9f5391fe75d4",
   "metadata": {},
   "outputs": [],
   "source": [
    "class Player:\n",
    "    def __init__(self):\n",
    "        self.grid = deepcopy(INITIAL_GRID)\n",
    "        self.tiles = deepcopy(INITIAL_TILES)\n",
    "        self.score = 0\n",
    "        self.punishment = 0\n",
    "    \n",
    "    # This function tells the user which row is best to fill out when given a certain number of tiles\n",
    "    def best_tile_row(self, tiles):\n",
    "        num_tiles = len(tiles)\n",
    "        tile_type = tiles[0]\n",
    "        app_rows = []\n",
    "        \n",
    "        # Begin by getting the rows of which that match how many tiles are available to be slotted in (Check that tiles also have to be of the same kind)\n",
    "        for row in self.tiles:\n",
    "            num_empty = 0\n",
    "            for space in row:\n",
    "                row_tile_type = -1\n",
    "                if space == 0:\n",
    "                    num_empty += 1\n",
    "                else:\n",
    "                    row_tile_type = space \n",
    "            \n",
    "            if num_empty == num_tiles and (row_tile_type == -1 or row_tile_type == tile_type):\n",
    "                app_rows.append(row)\n",
    "\n",
    "        # We can calculate which of the rows is better suited in obtaining a higher score\n",
    "        scores = []\n",
    "        for row in app_rows:\n",
    "            row_index = len(row) - 1\n",
    "            test_grid = deepcopy(self.grid)\n",
    "            for i in range(5):\n",
    "                filled = test_grid[row_index][i][0]\n",
    "                tiletype = test_grid[row_index][i][1]\n",
    "                if not filled and tiletype == tile_type:\n",
    "                    test_grid[row_index][i][0] = 1\n",
    "                    score = self.get_score(test_grid, row_index, i)\n",
    "                    scores.append(score)\n",
    "        \n",
    "        # If there was a row to be completed then...\n",
    "        if scores:\n",
    "            # Get the index of the highest score\n",
    "            index_highest = scores.index(max(scores))\n",
    "    \n",
    "            best_row = app_rows[index_highest]\n",
    "            \n",
    "            # Returns the best score achievable with the row to be filled \n",
    "            return max(scores), best_row\n",
    "        \n",
    "            #row_tiles_index = len(best_row) - 1\n",
    "            # self.tiles[row_tiles_index] = [tile_type for i in range(len(best_row))] # Place down the tiles within the tiles array\n",
    "            \n",
    "        else:\n",
    "            # Perform action that calculates where else best to select those tiles\n",
    "            \n",
    "            # First instinct should perhaps be filling out the rows that have yet to be completed (only partially)\n",
    "            # Or insert into the empty rows as a final resort\n",
    "            \n",
    "            non_empty_rows = []\n",
    "            empty_rows = []\n",
    "            for row in self.tiles:\n",
    "                if not all(elem == 0 for elem in row) and row[0] == tile_type:\n",
    "                    non_empty_rows.append(row)\n",
    "                else:\n",
    "                    empty_rows.append(row)\n",
    "            \n",
    "            if non_empty_rows:\n",
    "                return 0, non_empty_rows[0]\n",
    "            else:\n",
    "                return 0, empty_rows[0]\n",
    "            \n",
    "            \n",
    "    # The row and column is to tell where the most recent tile has been added so the score can be calculated accordingly\n",
    "    def get_score(self, grid, row, column):\n",
    "        \n",
    "        # Let us check column wise and row wise, how the score will be calculated\n",
    "        # We go from the tile itself, to the left and check how many consecutively and then to the right consecutively and minus one, same goes for column\n",
    "        \n",
    "        score_row = grid[row]\n",
    "        left_score = 0\n",
    "        right_score = 0\n",
    "        for i in range(column-1, -1, -1):\n",
    "            if not score_row[i][0]:\n",
    "                break\n",
    "            left_score += 1\n",
    "                \n",
    "        for i in range(column+1, 5):\n",
    "            if not score_row[i][0]:\n",
    "                break\n",
    "            right_score += 1\n",
    "        \n",
    "        row_score = left_score + right_score\n",
    "        \n",
    "        up_score = 0\n",
    "        down_score = 0\n",
    "        score_column = [r[column] for r in grid]\n",
    "        \n",
    "        for i in range(row-1, -1, -1):\n",
    "            if not score_column[i][0]:\n",
    "                break\n",
    "            up_score += 1\n",
    "                \n",
    "        for i in range(row+1, 5):\n",
    "            if not score_column[i][0]:\n",
    "                break\n",
    "            down_score += 1\n",
    "        \n",
    "        column_score = up_score + down_score\n",
    "        \n",
    "        total_score = row_score + column_score\n",
    "        if total_score == 0:\n",
    "            total_score = 1\n",
    "            \n",
    "        return total_score\n",
    "    \n",
    "    # This function does not make any changes to the tops nor the number of tiles themselves, it only returns the chosen number of tiles on the selected top\n",
    "    # The numbers will only be changed after the best possibly outcome is calculated and selected\n",
    "    def take_colors(self, middles, tiles_arr, tile_colour, TAKE_MIDDLES = False):\n",
    "        if not TAKE_MIDDLES:\n",
    "            chosen_tiles = [tile for tile in tiles_arr if tile == tile_colour]\n",
    "            return chosen_tiles\n",
    "        \n",
    "        else:\n",
    "            chosen_tiles = [tile for tile in middles if tile == tile_colour]\n",
    "            return chosen_tiles\n",
    "            \n",
    "        \n",
    "        "
   ]
  },
  {
   "cell_type": "code",
   "execution_count": 25,
   "id": "b98ce71a-02de-4724-8aa8-5cfa7dc2f838",
   "metadata": {},
   "outputs": [],
   "source": [
    "# Generate the random starting distribution of tiles and begi\n",
    "\n",
    "test_player1 = Player()\n",
    "test_player2 = Player()\n",
    "test_player3 = Player()\n",
    "player_arr = [test_player1, test_player2, test_player3]\n",
    "starting_tiles = generate_distributions()\n",
    "middle_tiles = [0]"
   ]
  },
  {
   "cell_type": "code",
   "execution_count": 26,
   "id": "89de9682-b13f-4ee8-b07a-c9b5c9b44fca",
   "metadata": {},
   "outputs": [],
   "source": [
    "# With the appropriate functions we can try to simulate what a round of azul might look like, we can take an approach that maximizes our points and minimizing the enemy's points\n",
    "# Every time a circle of turns pass, we can update the number of tiles left available and repeat the calculations, since it is not set in stone for what the others might do"
   ]
  },
  {
   "cell_type": "code",
   "execution_count": 28,
   "id": "a0e7b58d-d3bf-4a68-95c7-8473ed54f6fa",
   "metadata": {},
   "outputs": [
    {
     "data": {
      "text/plain": [
       "[(1, [0], 1, (3, 4, 5, 1)),\n",
       " (1, [0], 3, (3, 4, 5, 1)),\n",
       " (1, [0], 4, (3, 4, 5, 1)),\n",
       " (1, [0], 5, (3, 4, 5, 1)),\n",
       " (1, [0, 0, 0], 2, (2, 2, 2, 4)),\n",
       " (1, [0], 4, (2, 2, 2, 4)),\n",
       " (1, [0], 1, (1, 2, 2, 2)),\n",
       " (1, [0, 0, 0], 2, (1, 2, 2, 2)),\n",
       " (1, [0, 0], 1, (1, 5, 1, 5)),\n",
       " (1, [0, 0], 5, (1, 5, 1, 5)),\n",
       " (1, [0], 1, (4, 1, 5, 4)),\n",
       " (1, [0, 0], 4, (4, 1, 5, 4)),\n",
       " (1, [0], 5, (4, 1, 5, 4)),\n",
       " (1, [0], 2, (4, 3, 3, 2)),\n",
       " (1, [0, 0], 3, (4, 3, 3, 2)),\n",
       " (1, [0], 4, (4, 3, 3, 2)),\n",
       " (1, [0, 0, 0, 0], 1, (1, 1, 1, 1))]"
      ]
     },
     "execution_count": 28,
     "metadata": {},
     "output_type": "execute_result"
    }
   ],
   "source": [
    "# Lets perform a test run calculation\n",
    "\n",
    "def generate_options(tiles, middle_tiles, player):\n",
    "    options_arr = []\n",
    "    unique_middle_colors = list(set(middle_tiles))\n",
    "    if len(unique_middle_colors) > 1:\n",
    "        for color in unique_middle_colors:\n",
    "            chosen = player.take_colors(middle_tiles, [], color, TAKE_MIDDLES=True)\n",
    "            \n",
    "            # Should minus one here\n",
    "            points_earned, best_row = player.best_tile_row(chosen)\n",
    "            score_tuple = (points_earned, best_row, color, chosen)\n",
    "\n",
    "            options_arr.append(score_tuple)\n",
    "    \n",
    "    for top in tiles:\n",
    "        unique_colors = list(set(top))\n",
    "\n",
    "        for color in unique_colors:\n",
    "            chosen = player.take_colors(middle_tiles, top, color, TAKE_MIDDLES=False)\n",
    "        \n",
    "            # For these chosen tiles, now fill in the tiles and get the expected score\n",
    "            points_earned, best_row = player.best_tile_row(chosen)\n",
    "            score_tuple = (points_earned, best_row, color, top)\n",
    "\n",
    "            options_arr.append(score_tuple)\n",
    "        \n",
    "    \n",
    "    return options_arr\n",
    "    \n",
    "options_arr = generate_options(starting_tiles, middle_tiles, test_player1)\n",
    "options_arr"
   ]
  },
  {
   "cell_type": "code",
   "execution_count": null,
   "id": "4ec72b4c-5fff-438f-84b2-8acf9412ab4e",
   "metadata": {},
   "outputs": [],
   "source": [
    "# Now we can compute a tree of possibilities\n",
    "# Go through the cycle of players until each possibility has been explored\n",
    "\n",
    "curr_player = 0 # Increase this and mod len of players when we cycle\n",
    "middle = [0]\n",
    "\n",
    "for option in options_arr:\n",
    "    tops_copy = deepcopy(starting_tiles)\n",
    "    print(option)\n",
    "    # Let's look at the possibility for a current option\n",
    "    score, row, color, top = option\n",
    "    \n",
    "    # From the color selected and the top chosen, we remove it from the list of tops, push the remaining into the middle\n",
    "    leftover = [tile for tile in top if tile != color]\n",
    "    middle += leftover\n",
    "    \n",
    "    tops_copy.remove(top)\n",
    "    \n",
    "    # Now we have a\n",
    "    \n"
   ]
  }
 ],
 "metadata": {
  "kernelspec": {
   "display_name": "Python 3 (ipykernel)",
   "language": "python",
   "name": "python3"
  },
  "language_info": {
   "codemirror_mode": {
    "name": "ipython",
    "version": 3
   },
   "file_extension": ".py",
   "mimetype": "text/x-python",
   "name": "python",
   "nbconvert_exporter": "python",
   "pygments_lexer": "ipython3",
   "version": "3.9.7"
  }
 },
 "nbformat": 4,
 "nbformat_minor": 5
}
