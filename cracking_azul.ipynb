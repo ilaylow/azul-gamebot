{
 "cells": [
  {
   "cell_type": "code",
   "execution_count": 8,
   "id": "d66ad621-8e70-4f40-bf6c-f376696bdd42",
   "metadata": {},
   "outputs": [],
   "source": [
    "import numpy as np\n",
    "import random"
   ]
  },
  {
   "cell_type": "code",
   "execution_count": 1,
   "id": "e8360956-8711-463a-ace4-69184e309844",
   "metadata": {},
   "outputs": [],
   "source": [
    "COLOUR_DICT = {\n",
    "    0: \"One\", 1: \"Blue\", 2: \"Dark Blue\", 3: \"Light Blue\", 4: \"Red\", 5: \"Orange\"\n",
    "}"
   ]
  },
  {
   "cell_type": "code",
   "execution_count": 16,
   "id": "7872c6e7-8af0-40ee-b7f1-8fb91a869cd2",
   "metadata": {},
   "outputs": [],
   "source": [
    "# Maybe we can define the grid as an array of tuples, 1st argument indicating whether it is filled, and the 2nd, indicating the type of colour\n",
    "INITIAL_GRID = [\n",
    "    [(0, 1), (0, 5), (0, 4), (0, 2), (0, 3)],\n",
    "    [(0, 3), (0, 1), (0, 5), (0, 4), (0, 2)],\n",
    "    [(0, 2), (0, 3), (0, 1), (0, 5), (0, 4)],\n",
    "    [(0, 4), (0, 2), (0, 3), (0, 1), (0, 5)],\n",
    "    [(0, 5), (0, 4), (0, 2), (0, 3), (0, 1)]\n",
    "]\n",
    "\n",
    "# We can also define the tiles that are filled to place gems in the grid, zeros are used here to indicate that nothing is currently present\n",
    "INITIAL_TILES = [\n",
    "    [0], [0,0], [0,0,0], [0,0,0,0], [0,0,0,0,0]\n",
    "]"
   ]
  },
  {
   "cell_type": "code",
   "execution_count": 2,
   "id": "9c21e568-9026-476c-b56c-eb8caead868d",
   "metadata": {},
   "outputs": [
    {
     "data": {
      "text/plain": [
       "{0: 'One', 1: 'Blue', 2: 'Dark Blue', 3: 'Light Blue', 4: 'Red', 5: 'Orange'}"
      ]
     },
     "execution_count": 2,
     "metadata": {},
     "output_type": "execute_result"
    }
   ],
   "source": [
    "# Next, let's make a generator to randomly produce assortments of the tops within the game\n",
    "# That is, we want to produce 7 4-tuples with varying distributions of colour and this MUST be randomized (There are 100 tiles in total and 20 of each colour)\n",
    "COLOUR_DICT"
   ]
  },
  {
   "cell_type": "code",
   "execution_count": 24,
   "id": "633a66cd-8bfe-4d16-b86d-16dbd4ebfdff",
   "metadata": {},
   "outputs": [],
   "source": [
    "def generate_distributions():\n",
    "    \n",
    "    while True: \n",
    "        curr_list = []\n",
    "        for i in range(7):\n",
    "            assort_tuple = (random.randint(1,5), random.randint(1,5), random.randint(1,5), random.randint(1,5))\n",
    "            curr_list.append(assort_tuple)\n",
    "        \n",
    "        if verify_distribution(curr_list):\n",
    "            return curr_list\n",
    "\n",
    "def verify_distribution(nums):\n",
    "    curr_dict = {}\n",
    "    for tups in nums:\n",
    "        for x in tups:\n",
    "            if x in curr_dict:\n",
    "                curr_dict[x] += 1\n",
    "            else:\n",
    "                curr_dict[x] = 1\n",
    "\n",
    "    for x in curr_dict:\n",
    "        if curr_dict[x] > 20:\n",
    "            return False\n",
    "        \n",
    "    return True\n",
    "\n",
    "def convert_nums_to_colours(nums):\n",
    "    new_list = []\n",
    "    for x,y,z,w in nums:\n",
    "        new_list.append((COLOUR_DICT[x], COLOUR_DICT[y], COLOUR_DICT[x], COLOUR_DICT[w]))\n",
    "    \n",
    "    return new_list"
   ]
  },
  {
   "cell_type": "code",
   "execution_count": 27,
   "id": "9f6426ed-c992-46d2-942e-ffcc3090a0e0",
   "metadata": {},
   "outputs": [
    {
     "data": {
      "text/plain": [
       "[('Dark Blue', 'Light Blue', 'Dark Blue', 'Light Blue'),\n",
       " ('Light Blue', 'Orange', 'Light Blue', 'Dark Blue'),\n",
       " ('Red', 'Light Blue', 'Red', 'Light Blue'),\n",
       " ('Blue', 'Orange', 'Blue', 'Red'),\n",
       " ('Orange', 'Light Blue', 'Orange', 'Dark Blue'),\n",
       " ('Light Blue', 'Blue', 'Light Blue', 'Blue'),\n",
       " ('Red', 'Blue', 'Red', 'Red')]"
      ]
     },
     "execution_count": 27,
     "metadata": {},
     "output_type": "execute_result"
    }
   ],
   "source": [
    "random_dist = generate_distributions()\n",
    "random_dist_colors = convert_nums_to_colours(random_dist)\n",
    "\n",
    "random_dist_colors"
   ]
  },
  {
   "cell_type": "code",
   "execution_count": null,
   "id": "293e778f-bc0a-4289-bdb6-7ab4c317c66e",
   "metadata": {},
   "outputs": [],
   "source": [
    "# Remember here that we have to pick A COLOUR amongst the tiles which are present on the top, and the rest of the colors are shoved within the middle\n",
    "# Need to keep a track of those colours in the middle"
   ]
  },
  {
   "cell_type": "code",
   "execution_count": 3,
   "id": "4a63d6d3-943f-4e9e-ace6-61b35ac83b93",
   "metadata": {},
   "outputs": [],
   "source": [
    "# 0 represents the ONE tile\n",
    "MIDDLE_TILES = [0]"
   ]
  },
  {
   "cell_type": "code",
   "execution_count": 4,
   "id": "c33b8d4a-d009-418b-824f-28a97b149c89",
   "metadata": {},
   "outputs": [],
   "source": [
    "# For predictions, we want an algorithm that will tell the user which of the 7 tiles are best, and of those colours within the tiles, which should be selected.\n",
    "# Should we simulate choosing each of the tiles and test for the possible points which can be obtained and see which selection maxes the points? \n",
    "# This would require simulations of the game\n",
    "# Let's make a player class for this to represent the information that each player will have"
   ]
  },
  {
   "cell_type": "code",
   "execution_count": null,
   "id": "b33be7ad-268b-4f5f-a6b5-9f5391fe75d4",
   "metadata": {},
   "outputs": [],
   "source": [
    "class Player:\n",
    "    def __init__(self):\n",
    "        self.grid = INITIAL_GRID\n",
    "        self.tiles = INITIAL_TILES\n",
    "        self.score = 0\n",
    "        self.punishment = 0\n",
    "    \n",
    "    def fill_tiles(self, tiles):\n",
    "        num_tiles = len(tiles)\n",
    "        tile_type = tiles[0]\n",
    "        app_rows = []\n",
    "        \n",
    "        # Begin by getting the rows of which that match how many tiles are available to be slotted in \n",
    "        for row in self.tiles:\n",
    "            num_empty = 0\n",
    "            for space in row:\n",
    "                row_tile_type = -1\n",
    "                if space == 0:\n",
    "                    num_empty += 1\n",
    "                else:\n",
    "                    row_tile_type = space \n",
    "            \n",
    "            if num_empty == num_tiles and (row_tile_type == -1 or row_tile_type == tile_type):\n",
    "                app_rows.append(row)\n",
    "        \n",
    "        # We can calculate which of the rows is better suited in obtaining a higher score\n",
    "        scores = []\n",
    "        for row in app_rows:\n",
    "            row_index = len(row) - 1\n",
    "            test_grid = self.grid.copy()\n",
    "            for i in range(5):\n",
    "                filled = test_grid[row_index][i][0]\n",
    "                tiletype = test_grid[row_index][i][1]\n",
    "                if not filled and tiletype == tile_type:\n",
    "                    test_grid[row_index][i][0] = 1\n",
    "                    score = get_score(test_grid, row_index, i)\n",
    "                    scores.append(score)\n",
    "        \n",
    "        # If there was a row to be completed then...\n",
    "        if scores:\n",
    "            # Get the index of the highest score\n",
    "            index_highest = scores.index(max(scores))\n",
    "            best_row = app_rows[index_highest]\n",
    "            row_tiles_index = len(best_row) - 1\n",
    "            self.tiles[row_tiles_index] = [tile_type for i in range(len(best_row))] # Place down the tiles within the tiles array\n",
    "            \n",
    "        else:\n",
    "            # Perform action that calculates where best to select those tiles\n",
    "            \n",
    "    # The row and column is to tell where the most recent tile has been added so the score can be calculated accordingly\n",
    "    def get_score(self, grid, row, column):\n",
    "        \n",
    "        \n",
    "        "
   ]
  },
  {
   "cell_type": "code",
   "execution_count": null,
   "id": "aef4cb85-7da6-4090-ae77-9b04e2ace3c9",
   "metadata": {},
   "outputs": [],
   "source": []
  }
 ],
 "metadata": {
  "kernelspec": {
   "display_name": "Python 3 (ipykernel)",
   "language": "python",
   "name": "python3"
  },
  "language_info": {
   "codemirror_mode": {
    "name": "ipython",
    "version": 3
   },
   "file_extension": ".py",
   "mimetype": "text/x-python",
   "name": "python",
   "nbconvert_exporter": "python",
   "pygments_lexer": "ipython3",
   "version": "3.9.7"
  }
 },
 "nbformat": 4,
 "nbformat_minor": 5
}
